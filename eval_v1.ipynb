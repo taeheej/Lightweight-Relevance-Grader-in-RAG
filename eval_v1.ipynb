{
 "cells": [
  {
   "cell_type": "markdown",
   "id": "c9ecad25-9076-4105-bff6-45730e3a21c3",
   "metadata": {},
   "source": [
    "### This script is to evaluate original Llama-3.2-1B-Instruct using test dataset"
   ]
  },
  {
   "cell_type": "code",
   "execution_count": 1,
   "id": "74b1dbe2-d479-4430-96f9-2568aa19b32b",
   "metadata": {},
   "outputs": [],
   "source": [
    "#%% import packages\n",
    "\n",
    "from datasets import load_dataset\n",
    "from transformers import AutoModelForCausalLM\n",
    "from transformers import AutoTokenizer\n",
    "import torch\n",
    "import time\n",
    "import pandas as pd\n",
    "import numpy as np\n",
    "import copy"
   ]
  },
  {
   "cell_type": "code",
   "execution_count": 2,
   "id": "f88b9117-e837-4127-bffe-b3a59b585ad5",
   "metadata": {},
   "outputs": [
    {
     "name": "stdout",
     "output_type": "stream",
     "text": [
      "cuda\n"
     ]
    }
   ],
   "source": [
    "device = torch.device('cuda' if torch.cuda.is_available() else 'cpu')\n",
    "print(device)"
   ]
  },
  {
   "cell_type": "code",
   "execution_count": 3,
   "id": "e6b82273-6e34-4619-9643-6b6213cbfc68",
   "metadata": {},
   "outputs": [
    {
     "data": {
      "text/plain": [
       "LlamaForCausalLM(\n",
       "  (model): LlamaModel(\n",
       "    (embed_tokens): Embedding(128256, 2048)\n",
       "    (layers): ModuleList(\n",
       "      (0-15): 16 x LlamaDecoderLayer(\n",
       "        (self_attn): LlamaSdpaAttention(\n",
       "          (q_proj): Linear(in_features=2048, out_features=2048, bias=False)\n",
       "          (k_proj): Linear(in_features=2048, out_features=512, bias=False)\n",
       "          (v_proj): Linear(in_features=2048, out_features=512, bias=False)\n",
       "          (o_proj): Linear(in_features=2048, out_features=2048, bias=False)\n",
       "          (rotary_emb): LlamaRotaryEmbedding()\n",
       "        )\n",
       "        (mlp): LlamaMLP(\n",
       "          (gate_proj): Linear(in_features=2048, out_features=8192, bias=False)\n",
       "          (up_proj): Linear(in_features=2048, out_features=8192, bias=False)\n",
       "          (down_proj): Linear(in_features=8192, out_features=2048, bias=False)\n",
       "          (act_fn): SiLU()\n",
       "        )\n",
       "        (input_layernorm): LlamaRMSNorm((2048,), eps=1e-05)\n",
       "        (post_attention_layernorm): LlamaRMSNorm((2048,), eps=1e-05)\n",
       "      )\n",
       "    )\n",
       "    (norm): LlamaRMSNorm((2048,), eps=1e-05)\n",
       "    (rotary_emb): LlamaRotaryEmbedding()\n",
       "  )\n",
       "  (lm_head): Linear(in_features=2048, out_features=128256, bias=False)\n",
       ")"
      ]
     },
     "execution_count": 3,
     "metadata": {},
     "output_type": "execute_result"
    }
   ],
   "source": [
    "#%% Loading the model and tokenizer\n",
    "\n",
    "model_path = \"./Llama-3.2-1B-Instruct\"\n",
    "tokenizer = AutoTokenizer.from_pretrained(model_path)\n",
    "tokenizer.pad_token = tokenizer.eos_token\n",
    "\n",
    "model = AutoModelForCausalLM.from_pretrained(model_path, \n",
    "                                             torch_dtype=torch.bfloat16,\n",
    "                                             low_cpu_mem_usage=True)\n",
    "\n",
    "model.to(device)\n",
    "model.eval() \n"
   ]
  },
  {
   "cell_type": "code",
   "execution_count": 4,
   "id": "c44150d7-904e-47b6-b25b-d24acea24013",
   "metadata": {},
   "outputs": [
    {
     "data": {
      "text/plain": [
       "relevance\n",
       "FAIL    7895\n",
       "PASS    1105\n",
       "Name: count, dtype: int64"
      ]
     },
     "execution_count": 4,
     "metadata": {},
     "output_type": "execute_result"
    }
   ],
   "source": [
    "#%% load dataset\n",
    "\n",
    "df = pd.read_csv(\"./data/relevance_test3.csv\")\n",
    "\n",
    "df['relevance'].value_counts()   \n"
   ]
  },
  {
   "cell_type": "code",
   "execution_count": 5,
   "id": "2f2bab56-1609-45e8-92f6-e9e135430bdd",
   "metadata": {},
   "outputs": [
    {
     "name": "stdout",
     "output_type": "stream",
     "text": [
      "0\n",
      "10\n",
      "20\n"
     ]
    }
   ],
   "source": [
    "#%% testing\n",
    "\n",
    "system_prompt = \"\"\" Given the following QUESTION and DOCUMENTS, \n",
    "                    Please analyze the contents of DOCUMENTS and determine \n",
    "                    whether it is relevant in answering the QUESTION. \n",
    "                        \n",
    "                    The output should strictly use the following template: \n",
    "                    Output: \"PASS\" if the contents of DOCUMENTS is relevant in answering the QUESTION\n",
    "                    and \"FAIL\" if the contents is not relevant in answering the QUESTION’ on the last line.\n",
    "                    \"\"\"\n",
    "                    \n",
    "                    \n",
    "terminators = [\n",
    "    tokenizer.eos_token_id,\n",
    "    tokenizer.convert_tokens_to_ids(\"<|eot_id|>\")\n",
    "]\n",
    "    \n",
    "\n",
    "\n",
    "df['relevance_1b'] = ''\n",
    "\n",
    "for i in range(len(df)):  # it will take several hours depending on your hardware \n",
    "    \n",
    "    query_sentence = df['question'][i]\n",
    "    response = df['text'][i]\n",
    "    \n",
    "      \n",
    "    user_prompt = \"\"\"\n",
    "                QUESTION: {},\n",
    "                \n",
    "                DOCUMENTS: {}\n",
    "    \n",
    "                \"\"\".format(query_sentence, response)    \n",
    "                    \n",
    "                        \n",
    "    messages = [\n",
    "        {\"role\": \"system\", \n",
    "         \"content\": system_prompt },\n",
    "        {\"role\": \"user\", \n",
    "         \"content\": user_prompt},\n",
    "        ]\n",
    "         \n",
    "         \n",
    "         \n",
    "    input_ids = tokenizer.apply_chat_template(\n",
    "        messages,\n",
    "        add_generation_prompt=True,\n",
    "        return_tensors=\"pt\"\n",
    "    ).to(device)\n",
    "    \n",
    "\n",
    "    #attention_mask = torch.ones(input_ids.size()).to(device)\n",
    "    outputs = model.generate(\n",
    "        input_ids,\n",
    "        #attention_mask,\n",
    "        max_new_tokens=512,\n",
    "        eos_token_id=terminators,\n",
    "        pad_token_id=128004,\n",
    "        do_sample=True,\n",
    "        temperature=0.4,\n",
    "        top_p=0.9,\n",
    "    )\n",
    "    \n",
    "    response = outputs[0][input_ids.shape[-1]:]\n",
    "    response1 = tokenizer.decode(response, skip_special_tokens=True)\n",
    "\n",
    "    # if relevant doc is detected, \n",
    "    try:\n",
    "        if response1.split('Output:')[1].strip().replace('\"','')==\"PASS\":\n",
    "            df.loc[i,'relevance_1b'] = \"PASS\"\n",
    "        else:\n",
    "            df.loc[i,'relevance_1b'] = \"FAIL\"\n",
    "    except:\n",
    "        df.loc[i,'relevance_1b'] = \"FAIL\"\n",
    "    \n",
    "    if i % 10 ==0:\n",
    "        print(i)   \n",
    "\n",
    "    if i ==20:  # comment this to evaluate all dataset\n",
    "        break\n",
    "        \n",
    "# save the file\n",
    "\n",
    "# df.to_csv('./data/relevance_1b_test.csv', index=False)    "
   ]
  },
  {
   "cell_type": "code",
   "execution_count": 6,
   "id": "f8d8145f-ac4f-4518-85f4-0a5ec255e850",
   "metadata": {},
   "outputs": [
    {
     "name": "stdout",
     "output_type": "stream",
     "text": [
      "relevance\n",
      "FAIL    7895\n",
      "PASS    1105\n",
      "Name: count, dtype: int64\n",
      "relevance_1b\n",
      "PASS    7793\n",
      "FAIL    1207\n",
      "Name: count, dtype: int64\n"
     ]
    }
   ],
   "source": [
    "#%% upload the tested result\n",
    "df = pd.read_csv(\"./data/relevance_1b_test.csv\")\n",
    "\n",
    "print(df['relevance'].value_counts())    \n",
    "print(df['relevance_1b'].value_counts()) \n"
   ]
  },
  {
   "cell_type": "code",
   "execution_count": 7,
   "id": "22fa79b7-c3ce-4ab4-bad4-e5f1efd51051",
   "metadata": {},
   "outputs": [
    {
     "name": "stdout",
     "output_type": "stream",
     "text": [
      "Accuracy: 0.23666666666666666\n",
      "Precision: 0.13011677146156808\n",
      "Recall: 0.9176470588235294\n",
      "F1: 0.22791638570465275\n"
     ]
    }
   ],
   "source": [
    "#%% accuracy(confusion matrix)\n",
    "\n",
    "tp = 0\n",
    "tn = 0\n",
    "fp = 0\n",
    "fn = 0\n",
    "\n",
    "for i in range(len(df)):\n",
    "    if df['relevance_1b'][i]=='PASS' and df['relevance'][i]=='PASS':\n",
    "        tp += 1\n",
    "    elif df['relevance_1b'][i]=='PASS' and df['relevance'][i]=='FAIL':\n",
    "        fp += 1\n",
    "    elif df['relevance_1b'][i]=='FAIL' and df['relevance'][i]=='PASS':\n",
    "        fn += 1\n",
    "    elif df['relevance_1b'][i]=='FAIL' and df['relevance'][i]=='FAIL':\n",
    "        tn += 1        \n",
    "\n",
    "total = tp+fp+fn+tn\n",
    "accuracy = (tp+tn)/total\n",
    "precision = tp/(tp+fp)\n",
    "recall = tp/(tp+fn)\n",
    "f1 = 2/(1/precision+1/recall)\n",
    "\n",
    "print('Accuracy:', accuracy)\n",
    "print('Precision:', precision)\n",
    "print('Recall:', recall)\n",
    "print('F1:', f1)"
   ]
  },
  {
   "cell_type": "code",
   "execution_count": null,
   "id": "8c4fedb6-48cc-466f-ba8c-2b2decbe6b2f",
   "metadata": {},
   "outputs": [],
   "source": []
  }
 ],
 "metadata": {
  "kernelspec": {
   "display_name": "Python 3 (ipykernel)",
   "language": "python",
   "name": "python3"
  },
  "language_info": {
   "codemirror_mode": {
    "name": "ipython",
    "version": 3
   },
   "file_extension": ".py",
   "mimetype": "text/x-python",
   "name": "python",
   "nbconvert_exporter": "python",
   "pygments_lexer": "ipython3",
   "version": "3.12.3"
  }
 },
 "nbformat": 4,
 "nbformat_minor": 5
}
